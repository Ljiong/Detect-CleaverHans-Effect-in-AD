{
 "cells": [
  {
   "cell_type": "markdown",
   "metadata": {},
   "source": [
    "## Background blurrer"
   ]
  },
  {
   "cell_type": "code",
   "execution_count": 78,
   "metadata": {},
   "outputs": [],
   "source": [
    "\n",
    "#Imports\n",
    "from PIL import Image\n",
    "import requests\n",
    "import io\n",
    "import math\n",
    "import matplotlib.pyplot as plt\n",
    "%config InlineBackend.figure_format = 'retina'\n",
    "\n",
    "import cv2\n",
    "import numpy as np\n",
    "\n",
    "import torch\n",
    "from torch import device, nn\n",
    "from torchvision.models import resnet50\n",
    "import torchvision.transforms as T\n",
    "import numpy\n",
    "torch.set_grad_enabled(False);\n",
    "device = 'cpu'"
   ]
  },
  {
   "cell_type": "code",
   "execution_count": 79,
   "metadata": {},
   "outputs": [],
   "source": [
    "import pickle\n",
    "file = open('pickled_boxes','rb')\n",
    "data=pickle.load(file)\n",
    "file.close()"
   ]
  },
  {
   "cell_type": "code",
   "execution_count": 119,
   "metadata": {},
   "outputs": [],
   "source": [
    "                #bbl = bounding box list. \n",
    "def background_blurrer(image, bbl):\n",
    "    #make the bounding box list into a list of bounding box masks\n",
    "    bbl_mask=boxinator(bbl.tolist(),image)\n",
    "    \n",
    "    sum_mask=[np.array(image)*0]   #we make an empty mask with the correct size\n",
    "    \n",
    "    #and populate it to make it into the union of every bounding box mask\n",
    "    for mask in bbl_mask:\n",
    "        sum_mask+=mask\n",
    "    sum_mask[sum_mask>1]=1\n",
    "\n",
    "    #now we have a single mask masking the area that we don't want to blur\n",
    "    \n",
    "    \n",
    "    temp_img=image\n",
    "    temp_img=cv2.blur(np.array(temp_img).astype(np.uint8),(20,20),cv2.BORDER_DEFAULT)\n",
    "\n",
    "  \n",
    "    image[sum_mask==0]=temp_img[sum_mask==0]\n",
    "\n",
    "\n",
    "    "
   ]
  },
  {
   "cell_type": "code",
   "execution_count": 120,
   "metadata": {},
   "outputs": [],
   "source": [
    "def boxinator(boxes, image): \n",
    "\n",
    "    boxes = np.around(boxes).astype(int)\n",
    "\n",
    "    box = np.array([np.array(image)*0]*len(boxes), dtype=bool) # 3D tensor\n",
    "\n",
    "    for i in range(len(boxes)):\n",
    "        #now we are looking at box i\n",
    "\n",
    "        box[i][np.array(boxes[i][0]):np.array(boxes[i][2])][np.array(boxes[i][1]):np.array(boxes[i][3])] = 1\n",
    "    \n",
    "    sum_mask=[np.array(image)*0]\n",
    "\n",
    "    for mask in box:\n",
    "        sum_mask+=mask\n",
    "    sum_mask[sum_mask>1]=1\n",
    "    return sum_mask[0] "
   ]
  },
  {
   "cell_type": "code",
   "execution_count": 121,
   "metadata": {},
   "outputs": [],
   "source": [
    "im=Image.open('imagenette2-320/train/n02102040/n02102040_8463.JPEG')"
   ]
  },
  {
   "cell_type": "code",
   "execution_count": 122,
   "metadata": {},
   "outputs": [
    {
     "ename": "TypeError",
     "evalue": "'numpy.dtype[uint8]' object is not callable",
     "output_type": "error",
     "traceback": [
      "\u001b[1;31m---------------------------------------------------------------------------\u001b[0m",
      "\u001b[1;31mTypeError\u001b[0m                                 Traceback (most recent call last)",
      "\u001b[1;32m~\\AppData\\Local\\Temp\\ipykernel_17904\\3765248277.py\u001b[0m in \u001b[0;36m<module>\u001b[1;34m\u001b[0m\n\u001b[1;32m----> 1\u001b[1;33m \u001b[0ma\u001b[0m\u001b[1;33m=\u001b[0m\u001b[0mbackground_blurrer\u001b[0m\u001b[1;33m(\u001b[0m\u001b[0mim\u001b[0m\u001b[1;33m,\u001b[0m\u001b[0mdata\u001b[0m\u001b[1;33m)\u001b[0m\u001b[1;33m\u001b[0m\u001b[1;33m\u001b[0m\u001b[0m\n\u001b[0m",
      "\u001b[1;32m~\\AppData\\Local\\Temp\\ipykernel_17904\\1262937825.py\u001b[0m in \u001b[0;36mbackground_blurrer\u001b[1;34m(image, bbl)\u001b[0m\n\u001b[0;32m     17\u001b[0m     \u001b[0mtemp_img\u001b[0m\u001b[1;33m=\u001b[0m\u001b[0mcv2\u001b[0m\u001b[1;33m.\u001b[0m\u001b[0mblur\u001b[0m\u001b[1;33m(\u001b[0m\u001b[0mnp\u001b[0m\u001b[1;33m.\u001b[0m\u001b[0marray\u001b[0m\u001b[1;33m(\u001b[0m\u001b[0mtemp_img\u001b[0m\u001b[1;33m)\u001b[0m\u001b[1;33m.\u001b[0m\u001b[0mastype\u001b[0m\u001b[1;33m(\u001b[0m\u001b[0mnp\u001b[0m\u001b[1;33m.\u001b[0m\u001b[0muint8\u001b[0m\u001b[1;33m)\u001b[0m\u001b[1;33m,\u001b[0m\u001b[1;33m(\u001b[0m\u001b[1;36m20\u001b[0m\u001b[1;33m,\u001b[0m\u001b[1;36m20\u001b[0m\u001b[1;33m)\u001b[0m\u001b[1;33m,\u001b[0m\u001b[0mcv2\u001b[0m\u001b[1;33m.\u001b[0m\u001b[0mBORDER_DEFAULT\u001b[0m\u001b[1;33m)\u001b[0m\u001b[1;33m\u001b[0m\u001b[1;33m\u001b[0m\u001b[0m\n\u001b[0;32m     18\u001b[0m \u001b[1;33m\u001b[0m\u001b[0m\n\u001b[1;32m---> 19\u001b[1;33m     \u001b[0mprint\u001b[0m\u001b[1;33m(\u001b[0m\u001b[0msum_mask\u001b[0m\u001b[1;33m.\u001b[0m\u001b[0mdtype\u001b[0m\u001b[1;33m(\u001b[0m\u001b[1;33m)\u001b[0m\u001b[1;33m)\u001b[0m\u001b[1;33m\u001b[0m\u001b[1;33m\u001b[0m\u001b[0m\n\u001b[0m\u001b[0;32m     20\u001b[0m     \u001b[0mimage\u001b[0m\u001b[1;33m[\u001b[0m\u001b[0msum_mask\u001b[0m\u001b[1;33m[\u001b[0m\u001b[1;36m0\u001b[0m\u001b[1;33m]\u001b[0m\u001b[1;33m==\u001b[0m\u001b[1;36m0\u001b[0m\u001b[1;33m]\u001b[0m\u001b[1;33m=\u001b[0m\u001b[0mtemp_img\u001b[0m\u001b[1;33m[\u001b[0m\u001b[0msum_mask\u001b[0m\u001b[1;33m[\u001b[0m\u001b[1;36m0\u001b[0m\u001b[1;33m]\u001b[0m\u001b[1;33m==\u001b[0m\u001b[1;36m0\u001b[0m\u001b[1;33m]\u001b[0m\u001b[1;33m\u001b[0m\u001b[1;33m\u001b[0m\u001b[0m\n\u001b[0;32m     21\u001b[0m \u001b[1;33m\u001b[0m\u001b[0m\n",
      "\u001b[1;31mTypeError\u001b[0m: 'numpy.dtype[uint8]' object is not callable"
     ]
    }
   ],
   "source": [
    "a=background_blurrer(im,data)"
   ]
  },
  {
   "cell_type": "code",
   "execution_count": 77,
   "metadata": {},
   "outputs": [
    {
     "data": {
      "text/plain": [
       "[[0.2134561538696289,\n",
       "  0.20857080817222595,\n",
       "  104.58334350585938,\n",
       "  273.4422912597656],\n",
       " [234.37539672851562,\n",
       "  20.21611213684082,\n",
       "  277.1489562988281,\n",
       "  222.85353088378906],\n",
       " [149.94088745117188, 0.08867457509040833, 318.94873046875, 334.4506530761719],\n",
       " [43.452667236328125,\n",
       "  161.18450927734375,\n",
       "  98.49649047851562,\n",
       "  270.6575012207031],\n",
       " [91.68112182617188, 128.8114776611328, 241.155029296875, 350.54095458984375],\n",
       " [256.67822265625, 0.6021790504455566, 320.0627136230469, 246.0460205078125],\n",
       " [87.65359497070312,\n",
       "  0.4048619270324707,\n",
       "  183.40057373046875,\n",
       "  163.67254638671875],\n",
       " [178.86253356933594,\n",
       "  0.500065803527832,\n",
       "  319.6800537109375,\n",
       "  253.03404235839844],\n",
       " [0.04631519317626953,\n",
       "  0.11988356709480286,\n",
       "  97.57244110107422,\n",
       "  273.9411926269531]]"
      ]
     },
     "execution_count": 77,
     "metadata": {},
     "output_type": "execute_result"
    }
   ],
   "source": [
    "data.tolist()"
   ]
  },
  {
   "cell_type": "code",
   "execution_count": null,
   "metadata": {},
   "outputs": [],
   "source": []
  }
 ],
 "metadata": {
  "kernelspec": {
   "display_name": "Python 3.7.9 64-bit (microsoft store)",
   "language": "python",
   "name": "python3"
  },
  "language_info": {
   "codemirror_mode": {
    "name": "ipython",
    "version": 3
   },
   "file_extension": ".py",
   "mimetype": "text/x-python",
   "name": "python",
   "nbconvert_exporter": "python",
   "pygments_lexer": "ipython3",
   "version": "3.7.9"
  },
  "orig_nbformat": 4,
  "vscode": {
   "interpreter": {
    "hash": "06450aa87c019f417e438108aa650b0e357414d3f6578ad0e9224cc278311768"
   }
  }
 },
 "nbformat": 4,
 "nbformat_minor": 2
}
