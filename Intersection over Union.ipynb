{
 "cells": [
  {
   "cell_type": "markdown",
   "id": "8570bda7",
   "metadata": {},
   "source": [
    "# IoU\n",
    "\n",
    "To actually get the result we want we just need to call the metric_calc function,giving it as input the list of boxes (result of DETR) and the address of the heatmap"
   ]
  },
  {
   "cell_type": "code",
   "execution_count": 1,
   "id": "0c35ac7f",
   "metadata": {},
   "outputs": [],
   "source": [
    "def metric_calc(box_list, img_address):\n",
    "    \n",
    "    img = cv2.imread(img_address)\n",
    "    gray = cv2.cvtColor(img, cv2.COLOR_BGR2GRAY)\n",
    "    thresh = cv2.threshold(gray, 0, 1, cv2.THRESH_BINARY + cv2.THRESH_OTSU)[1]\n",
    "    \n",
    "    tmp_box=boxinator(box_list.tolist(), img)\n",
    "    tmp_img=img.astype(bool)\n",
    "    max_IoU=0\n",
    "    max_IoU_ID=0\n",
    "    \n",
    "    for i in tmp_box:\n",
    "        overlap = i*tmp_img \n",
    "        union = i+tmp_img \n",
    "\n",
    "        IOU = overlap.sum()/float(union.sum())\n",
    "        if IOU>max_IoU:\n",
    "            max_IoU=IOU\n",
    "            max_IoU_ID=i\n",
    "    \n",
    "    return max_IoU\n",
    "\n",
    "def boxinator(boxes, image): \n",
    "    boxes=np.around(boxes).astype(int)\n",
    "    box=np.array([image*0]*len(boxes), dtype=bool)\n",
    "    for i in range(len(boxes)):\n",
    "        #now we are looking at box i\n",
    "        box[i][np.array(boxes[i][0]):np.array(boxes[i][2])][np.array(boxes[i][1]):np.array(boxes[i][3])]=1\n",
    "    return box   \n",
    "\n"
   ]
  },
  {
   "cell_type": "code",
   "execution_count": null,
   "id": "bfa559f3",
   "metadata": {},
   "outputs": [],
   "source": []
  }
 ],
 "metadata": {
  "kernelspec": {
   "display_name": "Python 3 (ipykernel)",
   "language": "python",
   "name": "python3"
  },
  "language_info": {
   "codemirror_mode": {
    "name": "ipython",
    "version": 3
   },
   "file_extension": ".py",
   "mimetype": "text/x-python",
   "name": "python",
   "nbconvert_exporter": "python",
   "pygments_lexer": "ipython3",
   "version": "3.9.5"
  }
 },
 "nbformat": 4,
 "nbformat_minor": 5
}
