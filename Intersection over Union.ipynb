{
 "cells": [
  {
   "cell_type": "markdown",
   "id": "8570bda7",
   "metadata": {},
   "source": [
    "# IoU\n",
    "\n",
    "To actually get the result we want we just need to call the metric_calc function,giving it as input the list of boxes (result of DETR) and the address of the heatmap"
   ]
  },
  {
   "cell_type": "code",
   "execution_count": 1,
   "id": "0c35ac7f",
   "metadata": {},
   "outputs": [],
   "source": [
    "import cv2\n",
    "import numpy as np\n",
    "\n",
    "def metric_calc(box_list, img_address, tau):\n",
    "    \n",
    "    img = cv2.imread(img_address)\n",
    "    gray = cv2.cvtColor(img, cv2.COLOR_BGR2GRAY)\n",
    "    gray_norm = gray_norm / gray_norm.max()\n",
    "\n",
    "    ### thresholded image\n",
    "    _, thresh = cv2.threshold(gray_norm, tau, 1, cv2.THRESH_BINARY)\n",
    "    \n",
    "    tmp_box = boxinator(box_list.tolist(), img)\n",
    "    tmp_img = thresh.astype(bool)\n",
    "    max_IoU = 0\n",
    "    max_IoU_ID = 0\n",
    "\n",
    "    overlap = tmp_box * tmp_img\n",
    "    union = tmp_box + tmp_img\n",
    "    union[union > 1] = 1\n",
    "    IoU = np.sum(overlap) / np.sum(union)\n",
    "    return IoU\n",
    "\n",
    "def boxinator(boxes, image):\n",
    "    h, w, c = np.array(image).shape\n",
    "    boxes = np.around(boxes).astype(int)\n",
    "\n",
    "    box = np.array([np.array(image)[:, :, 0] * 0] * len(boxes), dtype=bool)  # 3D tensor\n",
    "\n",
    "    for i in range(len(boxes)):\n",
    "        # now we are looking at box i\n",
    "        xmin, ymin, xmax, ymax = np.array(np.round_(boxes[i]), dtype=int)\n",
    "\n",
    "        box[i][ymin:ymax, xmin:xmax] = 1\n",
    "\n",
    "    bbl_mask = np.array(image)[:, :, 0] * 0\n",
    "\n",
    "    for mask in box:\n",
    "        bbl_mask += mask\n",
    "        bbl_mask[bbl_mask > 1] = 1\n",
    "    bbl_mask[bbl_mask > 1] = 1\n",
    "    return np.squeeze(bbl_mask)\n",
    "\n"
   ]
  }
 ],
 "metadata": {
  "kernelspec": {
   "display_name": "Python 3.10.6 ('torch')",
   "language": "python",
   "name": "python3"
  },
  "language_info": {
   "codemirror_mode": {
    "name": "ipython",
    "version": 3
   },
   "file_extension": ".py",
   "mimetype": "text/x-python",
   "name": "python",
   "nbconvert_exporter": "python",
   "pygments_lexer": "ipython3",
   "version": "3.10.6"
  },
  "vscode": {
   "interpreter": {
    "hash": "e1315e6714f2518a6216a6eec3b047587d10875bf19b853b35d3e5c84c569e2a"
   }
  }
 },
 "nbformat": 4,
 "nbformat_minor": 5
}
